{
 "cells": [
  {
   "cell_type": "code",
   "execution_count": 1,
   "metadata": {
    "collapsed": false
   },
   "outputs": [
    {
     "name": "stdout",
     "output_type": "stream",
     "text": [
      "150\n",
      "SVM Training is done!\n"
     ]
    }
   ],
   "source": [
    "import time\n",
    "import argparse\n",
    "import math\n",
    "import random\n",
    "import numpy as np\n",
    "\n",
    "import cv2\n",
    "import itertools\n",
    "import os\n",
    "from os import listdir\n",
    "from os.path import isfile, join\n",
    "\n",
    "\n",
    "from sklearn.svm import SVC\n",
    "from operator import sub\n",
    "\n",
    "import pickle #save and read parameters with SVM \n",
    "\n",
    "np.set_printoptions(precision=2)\n",
    "\n",
    "import openface\n",
    "\n",
    "from scipy.spatial import Delaunay\n",
    "\n",
    "'''#cross-validation\n",
    "clf = []\n",
    "for f in xrange(5):\n",
    "    clf.append(SVC())\n",
    "'''\n",
    "#train and test\n",
    "clf = SVC(C=1e3) \n",
    "\n",
    "\n",
    "#fileDir = os.path.dirname(os.path.realpath(__file__))\n",
    "modelDir = os.path.join( '..', 'Models')\n",
    "dlibModelDir = os.path.join(modelDir, 'dlib')\n",
    "openfaceModelDir = os.path.join(modelDir, 'openface')\n",
    "\n",
    "dlibFacePredictor = os.path.join(dlibModelDir, \"shape_predictor_68_face_landmarks.dat\")\n",
    "networkModel = os.path.join(openfaceModelDir, 'nn4.small2.v1.t7')\n",
    "imgDim = 96\n",
    "\n",
    "start = time.time()\n",
    "align = openface.AlignDlib(dlibFacePredictor)\n",
    "net = openface.TorchNeuralNet(networkModel, imgDim)\n",
    "\n",
    "triangular_list = []\n",
    "\n",
    "mypath = '../Data'\n",
    "plastic = [f for f in listdir(mypath+'/plastic') if f.lower().endswith(('.png', '.jpg', '.jpeg')) and \n",
    "                                                    isfile(join(mypath+'/plastic', f))]\n",
    "american = [f for f in listdir(mypath+'/american') if f.lower().endswith(('.png', '.jpg', '.jpeg')) and \n",
    "                                                      isfile(join(mypath+'/american', f))]\n",
    "korean = [f for f in listdir(mypath+'/korean') if f.lower().endswith(('.png', '.jpg', '.jpeg')) and \n",
    "                                                  isfile(join(mypath+'/korean', f))]\n",
    "\n",
    "\n",
    "from BeautificationEngine import BE\n",
    "\n",
    "vector = []\n",
    "label = []\n",
    "\n",
    "be = BE(align, net, mypath, imgDim, american, korean, plastic)\n",
    "be.get_triangle_list_from_data('../Models/triIdx.txt')\n",
    "be.getedge(68)\n",
    "#train whole data and test whole data\n",
    "start = 49\n",
    "end = 0\n",
    "vector, label = be.get_image_data(start,end)\n",
    "\n",
    "print(len(vector))\n",
    "\n",
    "clf = be.svm(clf, vector, label)\n",
    "be.saveModel(clf)\n",
    "print('SVM Training is done!')"
   ]
  },
  {
   "cell_type": "code",
   "execution_count": 6,
   "metadata": {
    "collapsed": false
   },
   "outputs": [
    {
     "name": "stdout",
     "output_type": "stream",
     "text": [
      "Accuracy: 0.897959183673\n"
     ]
    }
   ],
   "source": [
    "start = 0\n",
    "end = 49\n",
    "clf2 = be.loadModel()\n",
    "t,total = be.test(clf2,start,end)\n",
    "print('Accuracy: {}'.format(1.0*t/total))"
   ]
  },
  {
   "cell_type": "code",
   "execution_count": null,
   "metadata": {
    "collapsed": true
   },
   "outputs": [],
   "source": []
  }
 ],
 "metadata": {
  "kernelspec": {
   "display_name": "Python 2",
   "language": "python",
   "name": "python2"
  },
  "language_info": {
   "codemirror_mode": {
    "name": "ipython",
    "version": 2
   },
   "file_extension": ".py",
   "mimetype": "text/x-python",
   "name": "python",
   "nbconvert_exporter": "python",
   "pygments_lexer": "ipython2",
   "version": "2.7.10"
  }
 },
 "nbformat": 4,
 "nbformat_minor": 0
}
